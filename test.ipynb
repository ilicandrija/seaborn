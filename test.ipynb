{
 "cells": [
  {
   "cell_type": "raw",
   "metadata": {
    "vscode": {
     "languageId": "raw"
    }
   },
   "source": [
    "# Uvod u Seaborn Biblioteku\n",
    "\n",
    "## Seminarski rad - SISJ\n",
    "\n",
    "### Autor: [Vaše ime]\n",
    "### Datum: [Datum]\n",
    "\n",
    "---\n",
    "\n",
    "## 1. Šta je Seaborn?\n",
    "\n",
    "Seaborn je Python biblioteka za statističku vizualizaciju podataka bazirana na matplotlib-u. Razvio ju je Michael Waskom 2012. godine kao visoko-nivo interfejs za kreiranje atraktivnih i informativnih statističkih grafika.\n",
    "\n",
    "### Ključne karakteristike:\n",
    "\n",
    "- **Visoko-nivo interfejs**: Pruža jednostavan API za kreiranje složenih vizualizacija\n",
    "- **Statistička orijentacija**: Ugrađene funkcije za statističku analizu i vizualizaciju\n",
    "- **Integracija sa pandas**: Odličo radi sa DataFrame objektima\n",
    "- **Estetski privlačni grafikoni**: Unapređeni izgled u odnosu na matplotlib\n",
    "- **Fleksibilnost**: Mogućnost fine podešavanja kroz matplotlib\n",
    "\n",
    "### Prednosti u odnosu na matplotlib:\n",
    "\n",
    "1. **Manje koda**: Kompleksni grafikoni se prave sa manje linija koda\n",
    "2. **Bolje default settings**: Automatski estetski privlačni grafikoni\n",
    "3. **Statistička funkcionalnost**: Ugrađeni regression plots, distribution plots, etc.\n",
    "4. **Rad sa kategorijskim podacima**: Bolje rukovanje kategorijskim varijablama\n",
    "\n",
    "---\n",
    "\n",
    "## 2. Istorija i razvoj\n",
    "\n",
    "Seaborn je nastao kao odgovor na potrebu za:\n",
    "- Jednostavnijim API-jem za statističku vizualizaciju\n",
    "- Boljim default dizajnom grafika\n",
    "- Boljom integracijom sa pandas DataFrame-ima\n",
    "- Statističkim funkcijama ugrađenim u plotting library\n",
    "\n",
    "Verzija 0.11 (2020) je uvela `seaborn.objects` interfejs - objektno-orijentisani API koji omogućava kompoziciju grafika.\n"
   ]
  },
  {
   "cell_type": "code",
   "execution_count": 2,
   "id": "13706208",
   "metadata": {},
   "outputs": [
    {
     "ename": "SyntaxError",
     "evalue": "invalid syntax (4258899735.py, line 8)",
     "output_type": "error",
     "traceback": [
      "\u001b[1;36m  Cell \u001b[1;32mIn[2], line 8\u001b[1;36m\u001b[0m\n\u001b[1;33m    ---\u001b[0m\n\u001b[1;37m       ^\u001b[0m\n\u001b[1;31mSyntaxError\u001b[0m\u001b[1;31m:\u001b[0m invalid syntax\n"
     ]
    }
   ],
   "source": [
    "# Uvod u Seaborn Biblioteku\n",
    "\n",
    "## Seminarski rad - SISJ\n",
    "\n",
    "### Autor: [Vaše ime]\n",
    "### Datum: [Datum]\n",
    "\n",
    "---\n",
    "\n",
    "## 1. Šta je Seaborn?\n",
    "\n",
    "Seaborn je Python biblioteka za statističku vizualizaciju podataka bazirana na matplotlib-u. Razvio ju je Michael Waskom 2012. godine kao visoko-nivo interfejs za kreiranje atraktivnih i informativnih statističkih grafika.\n",
    "\n",
    "### Ključne karakteristike:\n",
    "\n",
    "- **Visoko-nivo interfejs**: Pruža jednostavan API za kreiranje složenih vizualizacija\n",
    "- **Statistička orijentacija**: Ugrađene funkcije za statističku analizu i vizualizaciju\n",
    "- **Integracija sa pandas**: Odličo radi sa DataFrame objektima\n",
    "- **Estetski privlačni grafikoni**: Unapređeni izgled u odnosu na matplotlib\n",
    "- **Fleksibilnost**: Mogućnost fine podešavanja kroz matplotlib\n",
    "\n",
    "### Prednosti u odnosu na matplotlib:\n",
    "\n",
    "1. **Manje koda**: Kompleksni grafikoni se prave sa manje linija koda\n",
    "2. **Bolje default settings**: Automatski estetski privlačni grafikoni\n",
    "3. **Statistička funkcionalnost**: Ugrađeni regression plots, distribution plots, etc.\n",
    "4. **Rad sa kategorijskim podacima**: Bolje rukovanje kategorijskim varijablama\n",
    "\n",
    "---\n",
    "\n",
    "## 2. Istorija i razvoj\n",
    "\n",
    "Seaborn je nastao kao odgovor na potrebu za:\n",
    "- Jednostavnijim API-jem za statističku vizualizaciju\n",
    "- Boljim default dizajnom grafika\n",
    "- Boljom integracijom sa pandas DataFrame-ima\n",
    "- Statističkim funkcijama ugrađenim u plotting library\n",
    "\n",
    "Verzija 0.11 (2020) je uvela `seaborn.objects` interfejs - objektno-orijentisani API koji omogućava kompoziciju grafika.\n"
   ]
  }
 ],
 "metadata": {
  "kernelspec": {
   "display_name": "venv",
   "language": "python",
   "name": "python3"
  },
  "language_info": {
   "codemirror_mode": {
    "name": "ipython",
    "version": 3
   },
   "file_extension": ".py",
   "mimetype": "text/x-python",
   "name": "python",
   "nbconvert_exporter": "python",
   "pygments_lexer": "ipython3",
   "version": "3.10.10"
  }
 },
 "nbformat": 4,
 "nbformat_minor": 5
}
