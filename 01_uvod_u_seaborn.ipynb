{
 "cells": [
  {
   "cell_type": "markdown",
   "metadata": {},
   "source": [
    "# Uvod u Seaborn Biblioteku\n",
    "\n",
    "## Seminarski rad - SISJ\n",
    "\n",
    "**Autor:** Mihajlovic Luka 2020/0136, Ilic Andrija 2020/0236 \n",
    "**Datum:** 23.07.2025.\n",
    "\n",
    "---\n",
    "\n",
    "### 1. **Šta je Seaborn?**\n",
    "\n",
    "> **Zvanična dokumentacija:** [https://seaborn.pydata.org/](https://seaborn.pydata.org/)\n",
    "\n",
    "Seaborn je **moderna Python biblioteka** za statističku vizualizaciju podataka, izgrađena na vrhu matplotlib-a. Razvio ju je Michael Waskom 2012. godine kao visoko-nivo interfejs za kreiranje atraktivnih i informativnih statističkih grafika. Zeleo je da omoguci korisnicima da sa sto manje koda dobiju profesionalne grafikone, sa automatskim stilizovanjem i naprednim statistickim mogucnostima. \n",
    "Posebno je popularan u **Data Science** zajednici.\n",
    "\n",
    "### **Glavne karakteristike Seaborn-a:**\n",
    "\n",
    "- **Visoko-nivo interfejs**: Jednostavniji API za rad sa podacima\n",
    "- **Statistička orijentacija**: Ugrađene funkcije za statističku analizu i vizualizaciju\n",
    "- **Integracija sa pandas**: Odličo radi sa DataFrame objektima\n",
    "- **Estetika**: Unapređeni izgled u odnosu na matplotlib\n",
    "- **Fleksibilnost**: Mogućnost podešavanja kroz matplotlib\n",
    "\n",
    "---\n"
   ]
  },
  {
   "cell_type": "code",
   "execution_count": null,
   "metadata": {},
   "outputs": [],
   "source": [
    "# Uvoz potrebnih biblioteka\n",
    "import seaborn as sns\n",
    "import matplotlib.pyplot as plt\n",
    "import pandas as pd\n",
    "import numpy as np"
   ]
  },
  {
   "cell_type": "markdown",
   "metadata": {},
   "source": [
    "### 2. Matplotlib vs Seaborn:\n",
    "\n",
    "Matplotlib je osnovna biblioteka za vizualizaciju, ali zahteva više koda i ručno podešavanje za dobijanje lepih grafika. Seaborn koristi matplotlib u pozadini, ali omogućava mnogo jednostavnije i brže kreiranje profesionalnih grafika.\n",
    "\n",
    "- Kreirajmo set podataka za demonstraciju i uporedimo kako isti grafikon izgleda u matplotlib-u i seaborn-u."
   ]
  },
  {
   "cell_type": "code",
   "execution_count": null,
   "metadata": {},
   "outputs": [],
   "source": "# Kreiranje uzornih podataka za demonstraciju\nnp.random.seed(42)\n\n# Generisanje podataka o prodaji različitih proizvoda u različitim mesecima\nmonths = ['Jan', 'Feb', 'Mar', 'Apr', 'May', 'Jun', 'Jul', 'Aug', 'Sep', 'Oct', 'Nov', 'Dec']\nproducts = ['Laptop', 'Telefon', 'Tablet']\n\n# Kreiranje realistnih podataka o prodaji\ndata = []\nfor product in products:\n    for month in months:\n        # Dodavanje sezonalnosti i trends\n        base_sales = np.random.normal(100, 20)\n        if month in ['Dec', 'Jan', 'Feb']:  # Zimski rast\n            base_sales *= 1.3\n        elif month in ['Jun', 'Jul', 'Aug']:  # Letnji pad\n            base_sales *= 0.8\n        \n        # Različiti proizvodi imaju različite prodajne karakteristike\n        if product == 'Laptop':\n            base_sales *= 1.5\n        elif product == 'Telefon':\n            base_sales *= 2.0\n        \n        data.append({\n            'Mesec': month,\n            'Proizvod': product,\n            'Prodaja': max(0, int(base_sales)),\n            'Profit': max(0, int(base_sales * np.random.uniform(0.1, 0.3)))\n        })\n\n# Kreiranje DataFrame-a\ndf = pd.DataFrame(data)\n\n# Osiguravanje pravilnog redosleda meseci\nmonth_order = ['Jan', 'Feb', 'Mar', 'Apr', 'May', 'Jun', 'Jul', 'Aug', 'Sep', 'Oct', 'Nov', 'Dec']\ndf['Mesec'] = pd.Categorical(df['Mesec'], categories=month_order, ordered=True)\n\nprint(\"Kreiran DataFrame sa podacima o prodaji:\")\nprint(df.head(10))\nprint(f\"\\nDimenzije DataFrame-a: {df.shape}\")\nprint(f\"\\nOsnovne statistike:\")\nprint(df.describe())"
  },
  {
   "cell_type": "markdown",
   "metadata": {},
   "source": [
    "### Prikaz razlike grafikona izmedju matplotlib-a i seaborn-a"
   ]
  },
  {
   "cell_type": "code",
   "execution_count": null,
   "metadata": {},
   "outputs": [],
   "source": "# Poređenje matplotlib-a i seaborn-a\nfig, axes = plt.subplots(1, 2, figsize=(16, 7))\n\n# MATPLOTLIB pristup\nax1 = axes[0]\ncolors = ['#1f77b4', '#ff7f0e', '#2ca02c']\nfor i, product in enumerate(products):\n    product_data = df[df['Proizvod'] == product].sort_values('Mesec')\n    ax1.plot(product_data['Mesec'], product_data['Prodaja'], \n             marker='o', color=colors[i], linewidth=2.5, label=product, markersize=6)\n\nax1.set_title('Prodaja po mesecima - Matplotlib', fontsize=16, fontweight='bold', pad=20)\nax1.set_xlabel('Mesec', fontsize=12)\nax1.set_ylabel('Prodaja', fontsize=12)\nax1.legend(fontsize=11, frameon=True, shadow=True)\nax1.grid(True, alpha=0.3)\nax1.tick_params(axis='x', rotation=45, labelsize=10)\nax1.tick_params(axis='y', labelsize=10)\n\n# SEABORN pristup\nax2 = axes[1]\nsns.lineplot(data=df, x='Mesec', y='Prodaja', hue='Proizvod', \n             marker='o', linewidth=2.5, markersize=6, ax=ax2)\nax2.set_title('Prodaja po mesecima - Seaborn', fontsize=16, fontweight='bold', pad=20)\nax2.set_xlabel('Mesec', fontsize=12)\nax2.set_ylabel('Prodaja', fontsize=12)\nax2.tick_params(axis='x', rotation=45, labelsize=10)\nax2.tick_params(axis='y', labelsize=10)\n\n# Poboljšana legenda za seaborn\nlegend = ax2.legend(title='Proizvod', fontsize=11, title_fontsize=12, \n                    frameon=True, shadow=True)\n\nplt.tight_layout()\nplt.show()\n\n# Dodavanje kvantitativne analize razlike\nprint(\"\\\\n=== VIZUELNA ANALIZA RAZLIKE ===\")\nprint(\"Matplotlib pristup:\")\nprint(\"+ Više kontrole nad svakim elementom\")\nprint(\"+ Custom boje i stilovi\")\nprint(\"- Više koda potrebno\")\nprint(\"- Ručno podešavanje legende\")\n\nprint(\"\\\\nSeaborn pristup:\")\nprint(\"+ Automatsko grupisanje po 'hue' parametru\") \nprint(\"+ Lepše default boje i stilovi\")\nprint(\"+ Automatska legenda sa naslovom\")\nprint(\"+ Manje koda - jedna linija\")\nprint(\"+ Bolje handling kategorijskih podataka\")"
  },
  {
   "cell_type": "markdown",
   "metadata": {},
   "source": [
    "### Prednosti Seaborn-a u ovom primeru:\n",
    "\n",
    "1. **Manje koda**: Jedna linija umesto petlje\n",
    "2. **Bolje default settings**: Automatsko grupisanje po 'hue' parametru\n",
    "3. **Bolje default boje i stil**\n",
    "4. **Automatska legenda**\n",
    "5. **Rad sa kategorijskim podacima**: Bolje rukovanje kategorijskim varijablama\n",
    "---"
   ]
  },
  {
   "cell_type": "markdown",
   "metadata": {},
   "source": [
    "## 3. Seaborn stilovi i teme\n",
    "\n",
    "Seaborn omogućava lako menjanje izgleda grafika kroz različite stilove i kontekste. Ovo je jedna od glavnih prednosti u odnosu na matplotlib.\n"
   ]
  },
  {
   "cell_type": "code",
   "execution_count": null,
   "metadata": {},
   "outputs": [],
   "source": "# Demonstracija različitih seaborn stilova\n# Prvo učitavamo potreban dataset\ntips = sns.load_dataset('tips')\n\n# Kreiranje figure za stilove - 2 reda\nstyles = ['darkgrid', 'whitegrid', 'dark', 'white', 'ticks']\nfig, axes = plt.subplots(2, 3, figsize=(18, 12))\naxes = axes.flatten()\n\nfor i, style in enumerate(styles):\n    sns.set_style(style)\n    ax = axes[i]\n    \n    # Kreiranje istog grafikona u različitim stilovima\n    sns.scatterplot(data=tips, x='total_bill', y='tip', hue='time', \n                   s=60, alpha=0.7, ax=ax)\n    ax.set_title(f'Stil: {style}', fontsize=14, fontweight='bold', pad=15)\n    ax.legend(title='Vreme', title_fontsize=11, fontsize=10)\n    ax.set_xlabel('Total Bill ($)', fontsize=11)\n    ax.set_ylabel('Tip ($)', fontsize=11)\n\n# Poslednji subplot - demonstracija paleta boja\nax = axes[5]\nsns.set_style('whitegrid')\nax.clear()  # Očisti postojeći sadržaj\n\n# Kreiranje elegantnog prikaza paleta\npalettes = ['deep', 'muted', 'bright', 'pastel', 'dark', 'colorblind']\ny_positions = range(len(palettes))\n\nfor i, palette in enumerate(palettes):\n    colors = sns.color_palette(palette, n_colors=5)  # 5 boja po paleti\n    for j, color in enumerate(colors):\n        ax.scatter(j, i, c=[color], s=120, edgecolor='white', linewidth=1)\n        \n# Poboljšano formatiranje\nax.set_xlim(-0.5, 4.5)\nax.set_ylim(-0.5, len(palettes) - 0.5)\nax.set_xlabel('Pozicija u paleti', fontsize=11)\nax.set_ylabel('Tip palete', fontsize=11)\nax.set_title('Seaborn palete boja', fontsize=14, fontweight='bold', pad=15)\nax.set_yticks(range(len(palettes)))\nax.set_yticklabels(palettes)\nax.set_xticks(range(5))\nax.grid(True, alpha=0.3)\n\nplt.tight_layout(pad=3.0)\nplt.show()\n\n# Vraćanje na default stil\nsns.set_style('whitegrid')\n\nprint(\"=== OBJAŠNJENJE STILOVA ===\")\nprint(\"• darkgrid - tamna pozadina sa grid linijama (za prezentacije)\")\nprint(\"• whitegrid - bela pozadina sa grid linijama (univerzalno)\")  \nprint(\"• dark - tamna pozadina bez grid linija (minimalistično)\")\nprint(\"• white - bela pozadina bez grid linija (clean look)\")\nprint(\"• ticks - bela pozadina sa tick marks (tradicionalno)\")\n\nprint(\"\\\\n=== OBJAŠNJENJE PALETA ===\")\nprint(\"• deep - žive, duboke boje (default)\")\nprint(\"• muted - prigušene, profesionalne boje\")\nprint(\"• bright - svetle, kontrastne boje\")\nprint(\"• pastel - blede, soft boje\")\nprint(\"• dark - tamne, elegantne boje\")  \nprint(\"• colorblind - prilagođene za daltoniste\")"
  },
  {
   "cell_type": "code",
   "execution_count": null,
   "metadata": {},
   "outputs": [],
   "source": "# Demonstracija različitih konteksta (scaling)\ncontexts = ['paper', 'notebook', 'talk', 'poster']\nfig, axes = plt.subplots(2, 2, figsize=(16, 12))\naxes = axes.flatten()\n\nfor i, context in enumerate(contexts):\n    sns.set_context(context)\n    ax = axes[i]\n    \n    # Kreiranje istog grafikona u različitim kontekstima\n    sns.boxplot(data=tips, x='day', y='total_bill', hue='time', ax=ax)\n    ax.set_title(f'Kontekst: {context}', fontweight='bold', pad=15)\n    ax.legend(title='Vreme', loc='upper right')\n    ax.set_xlabel('Dan u sedmici')\n    ax.set_ylabel('Total Bill ($)')\n\nplt.tight_layout(pad=3.0)\nplt.show()\n\n# Vraćanje na default kontekst\nsns.set_context('notebook')\n\nprint(\"=== KONTEKSTI U SEABORN-U ===\")\nprint(\\\"📄 paper - za naučne radove i publikacije (mali font, kompaktno)\\\")\nprint(\\\"📓 notebook - za Jupyter notebook i analizu (default, srednji font)\\\")\nprint(\\\"🎤 talk - za prezentacije i konferencije (veliki font)\\\")\nprint(\\\"🖼️  poster - za postere i velike displaye (vrlo veliki font)\\\")\n\nprint(\\\"\\\\n=== PRAKTIČNI SAVETI ===\")\nprint(\\\"• Za prezentacije: koristite 'talk' ili 'poster' kontekst\\\")\nprint(\\\"• Za publikacije: koristite 'paper' kontekst\\\")\nprint(\\\"• Za istraživanje: 'notebook' je optimalan\\\")\nprint(\\\"• Kontekst utiče na font size, line width, element size\\\")\nprint(\\\"• Možete kombinovati različite stilove i kontekste\\\")"
  },
  {
   "cell_type": "markdown",
   "metadata": {},
   "source": [
    "## 4. Zaključak\n",
    "\n",
    "U ovom notebook-u smo prošli kroz osnovne koncepte Seaborn biblioteke:\n",
    "\n",
    "### Što smo naučili:\n",
    "- **Definiciju i svrhu** Seaborn biblioteke\n",
    "- **Prednosti** u odnosu na matplotlib\n",
    "- **Praktične primere** poređenja sa matplotlib-om\n",
    "- **Stilove i teme** za lepši izgled grafika\n",
    "- **Kontekste** za različite namene\n",
    "\n",
    "### Ključne prednosti Seaborn-a:\n",
    "1. **Jednostavnost** - manje koda za kompleksne grafike\n",
    "2. **Estetika** - automatski lepi grafikoni\n",
    "3. **Statistička orijentacija** - ugrađene statističke funkcije\n",
    "4. **Integracija** - odličo radi sa pandas\n",
    "5. **Fleksibilnost** - može se kombinovati sa matplotlib\n",
    "\n",
    "### Sledeći koraci:\n",
    "U narednim notebook-ima ćemo detaljno istražiti:\n",
    "- Specifične plotting funkcije\n",
    "- Strukture podataka za seaborn\n",
    "- Objektno-orijentisani interfejs\n",
    "- Napredne statistické vizualizacije\n",
    "\n",
    "---\n",
    "\n",
    "**Napomena**: Ovaj notebook služi kao uvod u seaborn. Za dublje razumevanje, proučite naredne notebook-ove u seriji.\n"
   ]
  }
 ],
 "metadata": {
  "kernelspec": {
   "display_name": "venv",
   "language": "python",
   "name": "python3"
  },
  "language_info": {
   "codemirror_mode": {
    "name": "ipython",
    "version": 3
   },
   "file_extension": ".py",
   "mimetype": "text/x-python",
   "name": "python",
   "nbconvert_exporter": "python",
   "pygments_lexer": "ipython3",
   "version": "3.10.10"
  }
 },
 "nbformat": 4,
 "nbformat_minor": 2
}