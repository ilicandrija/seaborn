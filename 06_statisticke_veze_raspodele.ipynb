{
 "cells": [
  {
   "cell_type": "code",
   "execution_count": null,
   "metadata": {
    "vscode": {
     "languageId": "plaintext"
    }
   },
   "outputs": [],
   "source": [
    "# Vizualizacija Statističkih Veza i Raspodela\n",
    "\n",
    "## Seminarski rad - SISJ\n",
    "\n",
    "### Deo 6: Analiza statističkih odnosa i distribucija podataka\n",
    "\n",
    "---\n",
    "\n",
    "## 1. Uvod u statističke veze i raspodele\n",
    "\n",
    "**Statistička analiza** je osnova za razumevanje podataka. Seaborn pruža moćne alate za vizualizaciju **odnosa između varijabli** i **distribucija podataka**.\n",
    "\n",
    "### 1.1 Tipovi statističkih veza:\n",
    "\n",
    "#### **Korelacija**\n",
    "- Linearni odnos između kontinuiranih varijabli\n",
    "- Meri jačinu i smer veze (-1 do +1)\n",
    "- Pearson, Spearman, Kendall korelacije\n",
    "\n",
    "#### **Kovarijansa**\n",
    "- Meri kako se dve varijable menjaju zajedno\n",
    "- Nije standardizovana kao korelacija\n",
    "- Zavisi od jedinica merenja\n",
    "\n",
    "#### **Asocijacija**\n",
    "- Opšti termin za bilo koji odnos između varijabli\n",
    "- Uključuje i nelinearne odnose\n",
    "- Može biti uzročna ili slučajna\n",
    "\n",
    "### 1.2 Seaborn alati za analizu:\n",
    "\n",
    "- **Correlation heatmaps** - matrice korelacija\n",
    "- **Pair plots** - multiple scatterplots\n",
    "- **Joint plots** - kombinovane analize\n",
    "- **Distribution plots** - histogrami, KDE, box plots\n",
    "- **Regression plots** - linearne i nelinearne veze\n"
   ]
  },
  {
   "cell_type": "code",
   "execution_count": null,
   "metadata": {},
   "outputs": [],
   "source": [
    "# Uvoz potrebnih biblioteka\n",
    "import seaborn as sns\n",
    "import matplotlib.pyplot as plt\n",
    "import pandas as pd\n",
    "import numpy as np\n",
    "from scipy import stats\n",
    "import warnings\n",
    "\n",
    "# Podešavanje\n",
    "sns.set_style(\"whitegrid\")\n",
    "warnings.filterwarnings('ignore')\n",
    "plt.rcParams['figure.figsize'] = (12, 8)\n",
    "\n",
    "# Učitavanje podataka\n",
    "tips = sns.load_dataset('tips')\n",
    "iris = sns.load_dataset('iris')\n",
    "\n",
    "print(\"=== ANALIZA STATISTIČKIH VEZA I RASPODELA ===\")\n",
    "print(f\"Tips dataset: {tips.shape}\")\n",
    "print(f\"Iris dataset: {iris.shape}\")\n",
    "\n",
    "# Korelacijska analiza\n",
    "numeric_tips = tips.select_dtypes(include=[np.number])\n",
    "correlation_matrix = numeric_tips.corr()\n",
    "\n",
    "print(\"\\nKorelacijska matrica Tips dataset:\")\n",
    "print(correlation_matrix.round(3))\n",
    "\n",
    "# Heatmap korelacijske matrice\n",
    "fig, axes = plt.subplots(1, 2, figsize=(15, 6))\n",
    "\n",
    "# Osnovna heatmap\n",
    "sns.heatmap(correlation_matrix, annot=True, cmap='coolwarm', center=0, \n",
    "            square=True, ax=axes[0])\n",
    "axes[0].set_title('Korelacijska matrica')\n",
    "\n",
    "# Heatmap sa maskom\n",
    "mask = np.triu(np.ones_like(correlation_matrix, dtype=bool))\n",
    "sns.heatmap(correlation_matrix, mask=mask, annot=True, cmap='coolwarm', \n",
    "            center=0, square=True, ax=axes[1])\n",
    "axes[1].set_title('Korelacijska matrica (donji trougao)')\n",
    "\n",
    "plt.tight_layout()\n",
    "plt.show()\n",
    "\n",
    "print(\"\\n=== ANALIZA KORELACIJA ===\")\n",
    "correlations = correlation_matrix.unstack().sort_values(ascending=False)\n",
    "correlations = correlations[correlations < 1.0]\n",
    "\n",
    "print(\"Najjača pozitivna korelacija:\")\n",
    "strongest = correlations.iloc[0]\n",
    "vars_names = correlations.index[0]\n",
    "print(f\"{vars_names[0]} - {vars_names[1]}: {strongest:.3f}\")\n",
    "print(\"Ova korelacija je očekivana - veći račun = veća napojnica!\")\n"
   ]
  },
  {
   "cell_type": "code",
   "execution_count": null,
   "metadata": {
    "vscode": {
     "languageId": "plaintext"
    }
   },
   "outputs": [],
   "source": "## 2. Pair plots i Joint plots\\n\\n**Pair plots** i **Joint plots** su specializovani alati za analizu odnosa između varijabli.\\n\\n### 2.1 Pair plot karakteristike:\\n\\n- **Matrica scatter plot-ova** za sve kombinacije varijabli\\n- **Histogram na dijagonali** za distribucije\\n- **Hue grupisanje** po kategorijskim varijablama\\n- **Brza exploratory analiza** svih odnosa\\n\\n### 2.2 Joint plot karakteristike:\\n\\n- **Glavni plot** (scatter, hex, kde, reg)\\n- **Marginalni histogrami** za svaku varijablu\\n- **Detaljnija analiza** specifičnog odnosa\\n- **Statistike** (korelacija, regresija)\\n\\n### 2.3 Tipovi distribucija:\\n\\n#### **Normalna distribucija**\\n- Simetrična, zvonasta kriva\\n- Karakterišu je mean i standard deviation\\n- Centralna granična teorema\\n\\n#### **Skewed distribucije**\\n- Pozitivno ili negativno skewed\\n- Težište na jednoj strani\\n- Česte u realnim podacima\\n\\n#### **Multimodalne distribucije**\\n- Više \\\"pikova\\\" u distribuciji\\n- Mogu ukazivati na podgrupe u podacima\\n- Važne za clustering analizu\""
  },
  {
   "cell_type": "code",
   "source": "# Praktični primeri - Pair plots i Joint plots\\nprint(\\\"=== PAIR PLOTS I JOINT PLOTS ===\\\")\\n\\n# 1. Osnovni pair plot za iris dataset\\ng1 = sns.pairplot(iris, hue='species', height=2.5)\\ng1.fig.suptitle('Pair plot - Iris dataset sa species grupisanjem', y=1.02)\\nplt.show()\\n\\n# 2. Joint plot - scatter sa marginalnim histogramima\\ng2 = sns.jointplot(data=tips, x='total_bill', y='tip', kind='scatter', height=8)\\ng2.fig.suptitle('Joint plot - Scatter sa marginalnim distribucijama', y=1.02)\\nplt.show()\\n\\n# 3. Joint plot - hex plot za gustinu\\ng3 = sns.jointplot(data=tips, x='total_bill', y='tip', kind='hex', height=8)\\ng3.fig.suptitle('Joint plot - Hexagonal binning za gustinu podataka', y=1.02)\\nplt.show()\\n\\n# 4. Joint plot - KDE\\ng4 = sns.jointplot(data=tips, x='total_bill', y='tip', kind='kde', height=8)\\ng4.fig.suptitle('Joint plot - Kernel Density Estimation', y=1.02)\\nplt.show()\\n\\n# 5. Joint plot - regresija\\ng5 = sns.jointplot(data=tips, x='total_bill', y='tip', kind='reg', height=8)\\ng5.fig.suptitle('Joint plot - Regression sa confidence intervalom', y=1.02)\\nplt.show()\\n\\n# Analiza korelacije u iris dataset-u\\nprint(\\\"\\\\n=== KORELACIJSKA ANALIZA IRIS DATASET ====\\\")\\niris_numeric = iris.select_dtypes(include=[np.number])\\niris_corr = iris_numeric.corr()\\nprint(\\\"Korelacijska matrica Iris dataset:\\\")\\nprint(iris_corr.round(3))\\n\\n# Kreiranje heatmap za iris korelacije\\nplt.figure(figsize=(10, 8))\\nsns.heatmap(iris_corr, annot=True, cmap='coolwarm', center=0, \\n            square=True, fmt='.3f', cbar_kws={'label': 'Korelacija'})\\nplt.title('Korelacijska matrica - Iris dataset')\\nplt.show()\\n\\n# Najjače korelacije u iris dataset-u\\niris_correlations = iris_corr.unstack().sort_values(ascending=False)\\niris_correlations = iris_correlations[iris_correlations < 1.0]\\n\\nprint(\\\"\\\\nNajjače pozitivne korelacije u Iris dataset-u:\\\")\\nfor i in range(min(3, len(iris_correlations))):\\n    corr_val = iris_correlations.iloc[i]\\n    var_names = iris_correlations.index[i]\\n    print(f\\\"{var_names[0]} - {var_names[1]}: {corr_val:.3f}\\\")\\n\\nprint(\\\"\\\\nInterpretacija:\\\")\\nprint(\\\"• Petal length i petal width imaju jaku pozitivnu korelaciju\\\")\\nprint(\\\"• Ovo je botanički logično - veći cvetni listići su i širi\\\")\\nprint(\\\"• Sepal measurements takođe koreliraju\\\")\\nprint(\\\"• Ove korelacije pomažu u klasifikaciji iris vrsta\\\")\"",
   "metadata": {},
   "execution_count": null,
   "outputs": []
  },
  {
   "cell_type": "markdown",
   "source": "## 3. Zaključak\\n\\nU ovom notebook-u smo detaljno istražili **vizualizaciju statističkih veza i raspodela** kroz Seaborn biblioteku.\\n\\n### Što smo naučili:\\n- **Korelacijsku analizu** i interpretaciju korelacijskih matrica\\n- **Heatmap vizualizacije** za prikaz korelacija\\n- **Pair plots** za komprehensivnu analizu odnosa između varijabli\\n- **Joint plots** za detaljnu analizu specifičnih parova varijabli\\n- **Različite tipove distribucija** i njihove karakteristike\\n\\n### Ključne tehnike:\\n1. **Correlation heatmaps** - brza identifikacija najjačih veza\\n2. **Pair plots** - simultana analiza svih parova varijabli\\n3. **Joint plots** - kombinovane analize sa marginalnim distribucijama\\n4. **Statistička interpretacija** - razumevanje značenja korelacija\\n5. **Vizuelna eksploracija** - identifikacija patterns i outliers\\n\\n### Praktične aplikacije:\\n- **Exploratory Data Analysis (EDA)** - početna analiza podataka\\n- **Feature selection** - identifikacija važnih varijabli za modeling\\n- **Data quality assessment** - pronalaženje anomalija i grešaka\\n- **Hypothesis generation** - kreiranje hipoteza za testiranje\\n- **Reporting** - komunikacija nalaza kroz vizualizacije\\n\\n### Sledeći koraci:\\nU narednom notebook-u ćemo istražiti **statističke procene i procene grešaka**, uključujući regresiju i multi-plot mreže.\\n\\n---\\n\\n**Napomena**: Ovaj notebook pokriva fundamentalne tehnike za analizu statističkih veza. Za naprednije analize, kombinujte ove tehnike sa machine learning metodama.\"",
   "metadata": {}
  }
 ],
 "metadata": {
  "language_info": {
   "name": "python"
  }
 },
 "nbformat": 4,
 "nbformat_minor": 2
}